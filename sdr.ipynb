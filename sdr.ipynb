{
 "cells": [
  {
   "cell_type": "code",
   "execution_count": 3,
   "metadata": {},
   "outputs": [
    {
     "ename": "TypeError",
     "evalue": "argument of type 'NoneType' is not iterable",
     "output_type": "error",
     "traceback": [
      "\u001b[1;31m---------------------------------------------------------------------------\u001b[0m",
      "\u001b[1;31mTypeError\u001b[0m                                 Traceback (most recent call last)",
      "Cell \u001b[1;32mIn[3], line 3\u001b[0m\n\u001b[0;32m      1\u001b[0m \u001b[39m# se hace al final\u001b[39;00m\n\u001b[1;32m----> 3\u001b[0m \u001b[39mimport\u001b[39;00m \u001b[39madi\u001b[39;00m\n\u001b[0;32m      4\u001b[0m \u001b[39m#Uri = \"ip:192.168.1.17\"\u001b[39;00m\n\u001b[0;32m      5\u001b[0m \u001b[39m#sdr = adi.Pluto(Uri)\u001b[39;00m\n\u001b[0;32m      6\u001b[0m \n\u001b[1;32m   (...)\u001b[0m\n\u001b[0;32m     11\u001b[0m \u001b[39m#for sample in data:\u001b[39;00m\n\u001b[0;32m     12\u001b[0m \u001b[39m#    print(sample)\u001b[39;00m\n",
      "File \u001b[1;32mc:\\Users\\Joaquin\\AppData\\Local\\Programs\\Python\\Python311\\Lib\\site-packages\\adi\\__init__.py:34\u001b[0m\n\u001b[0;32m      1\u001b[0m \u001b[39m# Copyright (C) 2019 Analog Devices, Inc.\u001b[39;00m\n\u001b[0;32m      2\u001b[0m \u001b[39m#\u001b[39;00m\n\u001b[0;32m      3\u001b[0m \u001b[39m# All rights reserved.\u001b[39;00m\n\u001b[1;32m   (...)\u001b[0m\n\u001b[0;32m     31\u001b[0m \u001b[39m# STRICT LIABILITY, OR TORT (INCLUDING NEGLIGENCE OR OTHERWISE) ARISING IN ANY WAY OUT OF\u001b[39;00m\n\u001b[0;32m     32\u001b[0m \u001b[39m# THE USE OF THIS SOFTWARE, EVEN IF ADVISED OF THE POSSIBILITY OF SUCH DAMAGE.\u001b[39;00m\n\u001b[1;32m---> 34\u001b[0m \u001b[39mfrom\u001b[39;00m \u001b[39madi\u001b[39;00m\u001b[39m.\u001b[39;00m\u001b[39mad469x\u001b[39;00m \u001b[39mimport\u001b[39;00m ad469x\n\u001b[0;32m     35\u001b[0m \u001b[39mfrom\u001b[39;00m \u001b[39madi\u001b[39;00m\u001b[39m.\u001b[39;00m\u001b[39mad717x\u001b[39;00m \u001b[39mimport\u001b[39;00m ad717x\n\u001b[0;32m     36\u001b[0m \u001b[39mfrom\u001b[39;00m \u001b[39madi\u001b[39;00m\u001b[39m.\u001b[39;00m\u001b[39mad719x\u001b[39;00m \u001b[39mimport\u001b[39;00m ad719x\n",
      "File \u001b[1;32mc:\\Users\\Joaquin\\AppData\\Local\\Programs\\Python\\Python311\\Lib\\site-packages\\adi\\ad469x.py:39\u001b[0m\n\u001b[0;32m     37\u001b[0m \u001b[39mimport\u001b[39;00m \u001b[39mnumpy\u001b[39;00m \u001b[39mas\u001b[39;00m \u001b[39mnp\u001b[39;00m\n\u001b[0;32m     38\u001b[0m \u001b[39mfrom\u001b[39;00m \u001b[39madi\u001b[39;00m\u001b[39m.\u001b[39;00m\u001b[39mattribute\u001b[39;00m \u001b[39mimport\u001b[39;00m attribute\n\u001b[1;32m---> 39\u001b[0m \u001b[39mfrom\u001b[39;00m \u001b[39madi\u001b[39;00m\u001b[39m.\u001b[39;00m\u001b[39mcontext_manager\u001b[39;00m \u001b[39mimport\u001b[39;00m context_manager\n\u001b[0;32m     40\u001b[0m \u001b[39mfrom\u001b[39;00m \u001b[39madi\u001b[39;00m\u001b[39m.\u001b[39;00m\u001b[39mrx_tx\u001b[39;00m \u001b[39mimport\u001b[39;00m rx\n\u001b[0;32m     43\u001b[0m \u001b[39mclass\u001b[39;00m \u001b[39mad469x\u001b[39;00m(rx, context_manager):\n",
      "File \u001b[1;32mc:\\Users\\Joaquin\\AppData\\Local\\Programs\\Python\\Python311\\Lib\\site-packages\\adi\\context_manager.py:34\u001b[0m\n\u001b[0;32m      1\u001b[0m \u001b[39m# Copyright (C) 2019 Analog Devices, Inc.\u001b[39;00m\n\u001b[0;32m      2\u001b[0m \u001b[39m#\u001b[39;00m\n\u001b[0;32m      3\u001b[0m \u001b[39m# All rights reserved.\u001b[39;00m\n\u001b[1;32m   (...)\u001b[0m\n\u001b[0;32m     31\u001b[0m \u001b[39m# STRICT LIABILITY, OR TORT (INCLUDING NEGLIGENCE OR OTHERWISE) ARISING IN ANY WAY OUT OF\u001b[39;00m\n\u001b[0;32m     32\u001b[0m \u001b[39m# THE USE OF THIS SOFTWARE, EVEN IF ADVISED OF THE POSSIBILITY OF SUCH DAMAGE.\u001b[39;00m\n\u001b[1;32m---> 34\u001b[0m \u001b[39mimport\u001b[39;00m \u001b[39miio\u001b[39;00m\n\u001b[0;32m     37\u001b[0m \u001b[39mclass\u001b[39;00m \u001b[39mcontext_manager\u001b[39;00m(\u001b[39mobject\u001b[39m):\n\u001b[0;32m     38\u001b[0m     _uri_auto \u001b[39m=\u001b[39m \u001b[39m\"\u001b[39m\u001b[39mip:analog\u001b[39m\u001b[39m\"\u001b[39m\n",
      "File \u001b[1;32mc:\\Users\\Joaquin\\AppData\\Local\\Programs\\Python\\Python311\\Lib\\site-packages\\iio.py:227\u001b[0m\n\u001b[0;32m    223\u001b[0m \u001b[39melse\u001b[39;00m:\n\u001b[0;32m    224\u001b[0m     \u001b[39m# Non-windows, possibly Posix system\u001b[39;00m\n\u001b[0;32m    225\u001b[0m     _iiolib \u001b[39m=\u001b[39m \u001b[39m\"\u001b[39m\u001b[39miio\u001b[39m\u001b[39m\"\u001b[39m\n\u001b[1;32m--> 227\u001b[0m _lib \u001b[39m=\u001b[39m _cdll(find_library(_iiolib), use_errno\u001b[39m=\u001b[39;49m\u001b[39mTrue\u001b[39;49;00m, use_last_error\u001b[39m=\u001b[39;49m\u001b[39mTrue\u001b[39;49;00m)\n\u001b[0;32m    229\u001b[0m _get_backends_count \u001b[39m=\u001b[39m _lib\u001b[39m.\u001b[39miio_get_backends_count\n\u001b[0;32m    230\u001b[0m _get_backends_count\u001b[39m.\u001b[39mrestype \u001b[39m=\u001b[39m c_uint\n",
      "File \u001b[1;32mc:\\Users\\Joaquin\\AppData\\Local\\Programs\\Python\\Python311\\Lib\\ctypes\\__init__.py:366\u001b[0m, in \u001b[0;36mCDLL.__init__\u001b[1;34m(self, name, mode, handle, use_errno, use_last_error, winmode)\u001b[0m\n\u001b[0;32m    364\u001b[0m \u001b[39mimport\u001b[39;00m \u001b[39mnt\u001b[39;00m\n\u001b[0;32m    365\u001b[0m mode \u001b[39m=\u001b[39m nt\u001b[39m.\u001b[39m_LOAD_LIBRARY_SEARCH_DEFAULT_DIRS\n\u001b[1;32m--> 366\u001b[0m \u001b[39mif\u001b[39;00m \u001b[39m'\u001b[39;49m\u001b[39m/\u001b[39;49m\u001b[39m'\u001b[39;49m \u001b[39min\u001b[39;49;00m name \u001b[39mor\u001b[39;00m \u001b[39m'\u001b[39m\u001b[39m\\\\\u001b[39;00m\u001b[39m'\u001b[39m \u001b[39min\u001b[39;00m name:\n\u001b[0;32m    367\u001b[0m     \u001b[39mself\u001b[39m\u001b[39m.\u001b[39m_name \u001b[39m=\u001b[39m nt\u001b[39m.\u001b[39m_getfullpathname(\u001b[39mself\u001b[39m\u001b[39m.\u001b[39m_name)\n\u001b[0;32m    368\u001b[0m     mode \u001b[39m|\u001b[39m\u001b[39m=\u001b[39m nt\u001b[39m.\u001b[39m_LOAD_LIBRARY_SEARCH_DLL_LOAD_DIR\n",
      "\u001b[1;31mTypeError\u001b[0m: argument of type 'NoneType' is not iterable"
     ]
    }
   ],
   "source": [
    "# se hace al final\n",
    "\n",
    "import adi\n",
    "#Uri = \"ip:192.168.1.17\"\n",
    "#sdr = adi.Pluto(Uri)\n",
    "\n",
    "#sdr.sample_rate = 1000000\n",
    "\n",
    "#data = sdr.rx()\n",
    "\n",
    "#for sample in data:\n",
    "#    print(sample)"
   ]
  },
  {
   "cell_type": "code",
   "execution_count": null,
   "metadata": {},
   "outputs": [],
   "source": [
    "import numpy as np\n",
    "import matplotlib.pyplot as plt"
   ]
  }
 ],
 "metadata": {
  "kernelspec": {
   "display_name": "Python 3",
   "language": "python",
   "name": "python3"
  },
  "language_info": {
   "codemirror_mode": {
    "name": "ipython",
    "version": 3
   },
   "file_extension": ".py",
   "mimetype": "text/x-python",
   "name": "python",
   "nbconvert_exporter": "python",
   "pygments_lexer": "ipython3",
   "version": "3.11.2"
  },
  "orig_nbformat": 4
 },
 "nbformat": 4,
 "nbformat_minor": 2
}
