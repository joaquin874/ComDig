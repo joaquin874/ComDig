{
 "cells": [
  {
   "cell_type": "code",
   "execution_count": 5,
   "metadata": {},
   "outputs": [
    {
     "name": "stdout",
     "output_type": "stream",
     "text": [
      "0.496\n"
     ]
    }
   ],
   "source": [
    "# n-PAM\n",
    "from scipy.stats import norm as nm\n",
    "# qx = nm.sf(x, loc=0, scale=1) calcula la función Q evaluada en x\n",
    "dsobre2 = 0.01\n",
    "qx = nm.sf(dsobre2, loc=0, scale=1)\n",
    "prob5 = qx\n",
    "print(round(prob5,2))\n"
   ]
  },
  {
   "attachments": {},
   "cell_type": "markdown",
   "metadata": {},
   "source": [
    "Se dispone de un alfabeto de símbolos reales con modulación 6-PAM, A = {0, 1, 2, 3, 4, 5}. Un decodificador ML los selecciona de\n",
    "acuerdo al criterio de mínima distancia. El receptor realiza una detección incorrecta si la observación real y aparece fuera de su región\n",
    "de decodificación: este caso se da si el ruido real Z es mayor que d/2, donde d = - , para i = 1,2,...,5. Se considera que la\n",
    "potencia de ruido está normalizada.\n",
    "1) Imprimir en pantalla el valor numérico de P(5), la probabilidad de error en la detección suponiendo que se transmitió el símbolo de\n",
    "amplitud 5.\n",
    "2) Repetir el ejercicio A) esta vez imprimiendo debajo el valor numérico de P(3).\n",
    "\n",
    "Sugerencia: para que el sistema pueda validar los resultados, imprimir solo valores numéricos redondeados a dos decimales, por\n",
    "ejemplo la salida del código debería tener esta forma:\n",
    "0.10\n",
    "0.20\n"
   ]
  },
  {
   "attachments": {},
   "cell_type": "markdown",
   "metadata": {},
   "source": [
    "Los siguientes parámetros permiten calcular el bit error rate para una modulación antipodal ( por ejemplo BPSK)\n",
    "$$P_T=Potencia de señal transmitida [watts]$$\n",
    "$$\\lambda=Longitud de onda de la portadora [m]$$\n",
    "$$G_T=Ganancia de la antena transmisora$$\n",
    "$$G_R=Ganancia de la antena receptora$$\n",
    "$$d= distancia [Km] $$\n",
    "$$T_N= Temperatura de ruido del receptor$$\n",
    "$$R_b= bit rate$$\n",
    "Escriba una función en python3  BER(pt,lda,gt,gr,d,tn,rb) que devuelva el bit error rate (BER)\n",
    "Exprese el resultado con con 4 decimales ( para su corrección automática)\n",
    "Ayuda: \n",
    "incluya la librería numpy para acceder a la función sqrt()\n",
    "incluya la librería scipy para acceder a la función Q\n",
    "\"from scipy.stats import norm\"\n"
   ]
  },
  {
   "cell_type": "code",
   "execution_count": 6,
   "metadata": {},
   "outputs": [],
   "source": [
    "import numpy as np\n",
    "from scipy.stats import norm\n",
    "kb=1.381e-23\n",
    "def BER(pt,lda,gt,gr,d,tn,rb):\n",
    "    arg=(1/(rb*1000)*(gt*gr*pt)/((4*3.14*d*1000/lda)**2*tn*kb))\n",
    "    return(np.round(norm.sf(np.sqrt(2*arg)),4))"
   ]
  },
  {
   "attachments": {},
   "cell_type": "markdown",
   "metadata": {},
   "source": [
    "Implementar un conformador de onda basado en una base ortonormal a desplazamientos múltiplos de T de la familia de raiz de coseno\n",
    "realzado. Sección 5.5 del libro de Bixio\n",
    "\n",
    "Proveer una función:\n",
    "```\n",
    "def raiz_coseno_realzado(simbolos, Beta, T, tt):\n",
    " ................................\n",
    " return signal_added,signal\n",
    "```\n",
    "con los siguiente argumentos:\n",
    "* símbolos: lista de símbolos de un alfabeto M-PAM\n",
    "* Beta: exceso de ancho de banda\n",
    "* T: periodo de símbolo\n",
    "* tt: intervalo de tiempo\n",
    "\n",
    "La función retorna:\n",
    "* signal_added: la forma de onda resultante de los símbolos transmitidos\n",
    "* signal: matriz (lista) de mxn donde m es la cantidad de símbolos y n el intervalo de tiempo\n",
    "Ayuda: Si se grafica las salidas de la función se obtendrían señales similares a las mostradas en la figura 5.7 del libro de Bixio (pag. 172)"
   ]
  },
  {
   "cell_type": "code",
   "execution_count": null,
   "metadata": {},
   "outputs": [],
   "source": [
    "import numpy as np\n",
    "def rrcosfilter(t, beta, Ts,iT):\n",
    "    return 1/np.sqrt(Ts) * np.sinc((t-iT)/Ts) * np.cos(np.pi*beta*(t-iT)/Ts) / (1 - (2 * beta * (t-iT) / Ts)**2)\n",
    "def raiz_coseno_realzado(simbolos, Beta, T, tt):\n",
    "    sum_sig = 0\n",
    "    signal = []\n",
    "    for i in range(len(simbolos)):\n",
    "        signal.append(simbolos[i]*rrcosfilter(tt,Beta,T,i*T))\n",
    "        sum_sig = sum_sig + signal[i]\n",
    "    \n",
    "    return sum_sig,signal"
   ]
  },
  {
   "attachments": {},
   "cell_type": "markdown",
   "metadata": {},
   "source": [
    "Este ejercicio está basado en el ejemplo 3.10, ubicado en la página 106 del libro Principles of Digital Communication: A top-down\n",
    "approach - Bixio Rimoldi. La señalización se conoce como Single-Shot QAM\n",
    "Realizar un conformador de onda con:\n",
    "$$\\phi_1(t)=\\sqrt{\\frac{2}{T}}cos(2\\pi f_c t)$$\n",
    "$$\\phi_2(t)=\\sqrt{\\frac{2}{T}}sin(2\\pi f_c t)$$\n",
    "con $t\\in[0,T]$\n",
    "\n",
    "Considerando que es un entero. Las componentes del código toma valores en un alfabeto discreto de la forma\n",
    "$$\\{ \\pm a,\\pm 3a\\, ...,\\pm (m-1)a\\}$$\n",
    "El programa debe generar la forma de onda para el código de entrada , esto es:\n",
    "$$w_i (t) = c_{i,1} \\phi_1 (t) + c_{i,2} \\phi_2 (t)$$\n",
    "La forma de onda tiene $f_c = 1$ y se genera con un muestreo $\\Delta t = 0.1$ \n",
    "\n"
   ]
  },
  {
   "cell_type": "code",
   "execution_count": null,
   "metadata": {},
   "outputs": [],
   "source": [
    "def waveformer(c):\n",
    "    f = 1 #Frecuencia\n",
    "    T = 1/f #Periodo\n",
    "    #Valores que toman las funciones trigonométricas\n",
    "    samples = np.arange(0,2*np.pi*f,0.1)\n",
    "    # Bases\n",
    "    phi_1 = np.sqrt(2/T) * np.cos(samples)\n",
    "    phi_2 = -(np.sqrt(2/T) * np.sin(samples))\n",
    "    #Cálculo de w_i\n",
    "    w = c[0] * phi_1 + c[1] * phi_2\n",
    "    return w"
   ]
  }
 ],
 "metadata": {
  "kernelspec": {
   "display_name": "Python 3",
   "language": "python",
   "name": "python3"
  },
  "language_info": {
   "codemirror_mode": {
    "name": "ipython",
    "version": 3
   },
   "file_extension": ".py",
   "mimetype": "text/x-python",
   "name": "python",
   "nbconvert_exporter": "python",
   "pygments_lexer": "ipython3",
   "version": "3.11.2"
  },
  "orig_nbformat": 4
 },
 "nbformat": 4,
 "nbformat_minor": 2
}
