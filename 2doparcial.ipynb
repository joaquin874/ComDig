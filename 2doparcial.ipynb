{
 "cells": [
  {
   "attachments": {},
   "cell_type": "markdown",
   "metadata": {},
   "source": [
    " $\\alpha_1=(1,0,1,1)^T  , \\alpha_2=(2,1,0,1)^T  , \\alpha_3=(1,0,1,-2)^T , \\alpha_4=(2,0,2,-1)^T$"
   ]
  }
 ],
 "metadata": {
  "language_info": {
   "name": "python"
  },
  "orig_nbformat": 4
 },
 "nbformat": 4,
 "nbformat_minor": 2
}
