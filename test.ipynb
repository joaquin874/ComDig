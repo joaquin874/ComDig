{
 "cells": [
  {
   "cell_type": "code",
   "execution_count": 8,
   "metadata": {},
   "outputs": [
    {
     "ename": "AttributeError",
     "evalue": "'poisson_gen' object has no attribute 'fit'",
     "output_type": "error",
     "traceback": [
      "\u001b[1;31m---------------------------------------------------------------------------\u001b[0m",
      "\u001b[1;31mAttributeError\u001b[0m                            Traceback (most recent call last)",
      "Cell \u001b[1;32mIn[8], line 51\u001b[0m\n\u001b[0;32m     48\u001b[0m     map_hypothesis \u001b[39m=\u001b[39m \u001b[39m'\u001b[39m\u001b[39mH1\u001b[39m\u001b[39m'\u001b[39m\n\u001b[0;32m     50\u001b[0m \u001b[39m# Determinamos la hipótesis que mejor se ajusta a los datos usando el detector ML\u001b[39;00m\n\u001b[1;32m---> 51\u001b[0m mle_lambda \u001b[39m=\u001b[39m poisson\u001b[39m.\u001b[39;49mfit(data)[\u001b[39m0\u001b[39m]\n\u001b[0;32m     52\u001b[0m \u001b[39mif\u001b[39;00m mle_lambda \u001b[39m<\u001b[39m lambda_h0:\n\u001b[0;32m     53\u001b[0m     ml_hypothesis \u001b[39m=\u001b[39m \u001b[39m'\u001b[39m\u001b[39mH0\u001b[39m\u001b[39m'\u001b[39m\n",
      "\u001b[1;31mAttributeError\u001b[0m: 'poisson_gen' object has no attribute 'fit'"
     ]
    }
   ],
   "source": [
    "import numpy as np\n",
    "from scipy.stats import poisson\n",
    "from scipy import stats\n",
    "\n",
    "# Definimos los parámetros de las dos distribuciones Poisson\n",
    "lambda_h0 = 3\n",
    "lambda_h1 = 5\n",
    "\n",
    "# Calculamos las probabilidades a priori de las dos hipótesis\n",
    "prior_h0 = 0.5\n",
    "prior_h1 = 0.5\n",
    "\n",
    "# Inicializamos los contadores para los resultados del test de hipótesis binaria\n",
    "rejections = 0\n",
    "non_rejections = 0\n",
    "\n",
    "def poisson_test(data, mu):\n",
    "    \"\"\"\n",
    "    Realiza un test de hipótesis para la distribución Poisson con una media conocida.\n",
    "\n",
    "    Parámetros:\n",
    "        data (array): Los datos de muestra.\n",
    "        mu (float): La media de la distribución Poisson.\n",
    "\n",
    "    Retorna:\n",
    "        tstat (float): El valor del estadístico de prueba.\n",
    "        pvalue (float): El valor p del test de hipótesis.\n",
    "    \"\"\"\n",
    "    n = len(data)\n",
    "    xbar = np.mean(data)\n",
    "    tstat = (xbar - mu) / np.sqrt(mu / n)\n",
    "    pvalue = 2 * (1 - stats.norm.cdf(np.abs(tstat)))\n",
    "    return tstat, pvalue\n",
    "\n",
    "# Repetimos el proceso para cada muestra\n",
    "for i in range(10000):\n",
    "    # Generamos datos de prueba\n",
    "    data = poisson.rvs(mu=2.5, size=100)\n",
    "\n",
    "    # Calculamos las probabilidades a posteriori de las dos hipótesis\n",
    "    posterior_h0 = prior_h0 * np.prod(poisson.pmf(data, mu=lambda_h0))\n",
    "    posterior_h1 = prior_h1 * np.prod(poisson.pmf(data, mu=lambda_h1))\n",
    "\n",
    "    # Determinamos la hipótesis más probable usando el detector MAP\n",
    "    if posterior_h0 > posterior_h1:\n",
    "        map_hypothesis = 'H0'\n",
    "    else:\n",
    "        map_hypothesis = 'H1'\n",
    "\n",
    "    # Determinamos la hipótesis que mejor se ajusta a los datos usando el detector ML\n",
    "    mle_lambda = poisson.fit(data)[0]\n",
    "    if mle_lambda < lambda_h0:\n",
    "        ml_hypothesis = 'H0'\n",
    "    else:\n",
    "        ml_hypothesis = 'H1'\n",
    "\n",
    "    # Realizamos un test de hipótesis binaria\n",
    "    tstat, pvalue = poisson_test(data, lambda_h0)\n",
    "\n",
    "    if pvalue < 0.05:\n",
    "        rejections += 1\n",
    "    else:\n",
    "        non_rejections += 1\n",
    "\n",
    "# Imprimimos los resultados del test de hipótesis binaria\n",
    "print(\"Número de rechazos de la hipótesis nula: \", rejections)\n",
    "print(\"Número de no rechazos de la hipótesis nula: \", non_rejections)"
   ]
  }
 ],
 "metadata": {
  "kernelspec": {
   "display_name": "Python 3",
   "language": "python",
   "name": "python3"
  },
  "language_info": {
   "codemirror_mode": {
    "name": "ipython",
    "version": 3
   },
   "file_extension": ".py",
   "mimetype": "text/x-python",
   "name": "python",
   "nbconvert_exporter": "python",
   "pygments_lexer": "ipython3",
   "version": "3.11.2"
  },
  "orig_nbformat": 4
 },
 "nbformat": 4,
 "nbformat_minor": 2
}
