{
 "cells": [
  {
   "cell_type": "code",
   "execution_count": 1,
   "metadata": {},
   "outputs": [
    {
     "data": {
      "text/plain": [
       "(array([0.04841452, 0.14836451, 0.22618786, 0.22402721, 0.16869061,\n",
       "        0.09884965, 0.05129539, 0.02212664, 0.0083425 , 0.00370111]),\n",
       " array([ 0.,  1.,  2.,  3.,  4.,  5.,  6.,  7.,  8.,  9., 10.]),\n",
       " <BarContainer object of 10 artists>)"
      ]
     },
     "execution_count": 1,
     "metadata": {},
     "output_type": "execute_result"
    },
    {
     "data": {
      "image/png": "[encoded data removed]",
      "text/plain": [
       "<Figure size 432x288 with 1 Axes>"
      ]
     },
     "metadata": {
      "needs_background": "light"
     },
     "output_type": "display_data"
    }
   ],
   "source": [
    "import numpy as np\n",
    "import matplotlib.pyplot as plt\n",
    "lambda0 = 1\n",
    "lambda1 = 3\n",
    "nb_samples = 50000\n",
    "\n",
    "# Analizando la estadística\n",
    "signal_received_h0 =  np.random.poisson(lambda0, nb_samples)\n",
    "signal_received_h1 = np.random.poisson(lambda1, nb_samples)\n",
    "\n",
    "plt.hist(signal_received_h0,bins = 10, range = (0,10), density = True , width = 0.2, align ='mid')\n",
    "plt.hist(signal_received_h1, bins = 10 , range = (0,10), density = True , width = 0.3, align ='right')\n"
   ]
  }
 ],
 "metadata": {
  "kernelspec": {
   "display_name": "Python 3",
   "language": "python",
   "name": "python3"
  },
  "language_info": {
   "codemirror_mode": {
    "name": "ipython",
    "version": 3
   },
   "file_extension": ".py",
   "mimetype": "text/x-python",
   "name": "python",
   "nbconvert_exporter": "python",
   "pygments_lexer": "ipython3",
   "version": "3.10.6"
  },
  "orig_nbformat": 4
 },
 "nbformat": 4,
 "nbformat_minor": 2
}
