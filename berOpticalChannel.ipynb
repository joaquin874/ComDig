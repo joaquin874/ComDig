{
 "cells": [
  {
   "attachments": {},
   "cell_type": "markdown",
   "metadata": {},
   "source": [
    "# Detección MAP y ML para función de distribución de Poisson (canal de fibra óptica)\n",
    "1) Grafique en una misma figura las probabilidades condicionales P(Y|H) para H=0 y H=1 del Ejemplo 2.4 del libro. Elija parámetros para la función de densidad de Poisson y saque conclusiones\n",
    "\n",
    "2) Genere una distribución de Poisson y realice su histograma\n",
    "\n",
    "3) Determine las regiones de decisión MAP y ML. Para el caso MAP, proponga una distribución de probabilidad de las hipótesis\n",
    "\n",
    "4) Estime estadísticamente la probabilidad error y realice una gráfica de probabilidad de error vs Intensidad[DB]"
   ]
  },
  {
   "attachments": {},
   "cell_type": "markdown",
   "metadata": {},
   "source": [
    "# Ejemplo\n",
    "El siguiente caso de análisis emplea la librería de python numpy para generar variables aleatorias de poisson y la librería matplotlib para realizar distintos tipos de gráficos. Experimente con diferentes parámetros para familiarizarse con el uso de las misma. \n"
   ]
  },
  {
   "cell_type": "code",
   "execution_count": 4,
   "metadata": {},
   "outputs": [
    {
     "data": {
      "text/plain": [
       "(array([0.04885466, 0.14880464, 0.22472742, 0.22480744, 0.16863059,\n",
       "        0.09972992, 0.05125538, 0.02172652, 0.00830249, 0.00316095]),\n",
       " array([ 0.,  1.,  2.,  3.,  4.,  5.,  6.,  7.,  8.,  9., 10.]),\n",
       " <BarContainer object of 10 artists>)"
      ]
     },
     "execution_count": 4,
     "metadata": {},
     "output_type": "execute_result"
    },
    {
     "data": {
      "image/png": "[encoded data removed]",
      "text/plain": [
       "<Figure size 432x288 with 1 Axes>"
      ]
     },
     "metadata": {
      "needs_background": "light"
     },
     "output_type": "display_data"
    }
   ],
   "source": [
    "import numpy as np\n",
    "import matplotlib.pyplot as plt\n",
    "lambda0 = 1 \n",
    "lambda1 = 3\n",
    "nb_samples = 50000\n",
    "\n",
    "# Analizando la estadística\n",
    "signal_received_h0 =  np.random.poisson(lambda0, nb_samples)\n",
    "signal_received_h1 = np.random.poisson(lambda1, nb_samples)\n",
    "\n",
    "plt.hist(signal_received_h0,bins = 10, range = (0,10), density = True , width = 0.2, align ='mid')\n",
    "plt.hist(signal_received_h1, bins = 10 , range = (0,10), density = True , width = 0.3, align ='right')\n"
   ]
  },
  {
   "attachments": {},
   "cell_type": "markdown",
   "metadata": {},
   "source": [
    "El criterio de decisión para el caso ML es para $\\lambda_0$=1 y $\\lambda_1$=3 $$y\\gt 1 \\Rightarrow \\hat{H}=1 \\\\ y\\le 1 \\Rightarrow \\hat{H}=0$$\n",
    "\n",
    "\n",
    "A continuación se provee un simulador para este caso particular. "
   ]
  },
  {
   "cell_type": "code",
   "execution_count": 5,
   "metadata": {},
   "outputs": [
    {
     "name": "stdout",
     "output_type": "stream",
     "text": [
      "0.22882\n"
     ]
    }
   ],
   "source": [
    "# Simulador de hipotesis + canal + receptor\n",
    "# GENERADOR DE HIPOTESIS\n",
    "hypothesis = np.random.randint(0,2,nb_samples)\n",
    "# SALIDA DEL CANAL \n",
    "y = [np.random.poisson(lambda1) if hypothesis[i]>0 else np.random.poisson(lambda0) for i in range(nb_samples)]\n",
    "# RECEPTOR \n",
    "nivel = 1\n",
    "hypothesis_detected = [1 if y[i]>nivel else 0 for i in range(nb_samples)]\n",
    "\n",
    "pe = sum(abs(hypothesis - np.array(hypothesis_detected)))/nb_samples\n",
    "print(pe)"
   ]
  },
  {
   "attachments": {},
   "cell_type": "markdown",
   "metadata": {},
   "source": [
    "Construya otro simulador parametrizado para $\\lambda_o$ y $\\lambda_1$. Describa en un bloque de texto como obtiene matemáticame el nivel de desición.\n"
   ]
  },
  {
   "attachments": {},
   "cell_type": "markdown",
   "metadata": {},
   "source": [
    "## Pe vs Intensidad\n",
    "Sea $y$ la cantidad de fotones a la salida del foto detector. La media y varianza está dada por \n",
    "$$\\mu = E\\{y\\}=\\sum_{y=0}yp(y)=\\sum_{y=0}yp(y/ho)p(ho)+\\sum_{y=0}yp(y/h1)p(h1)=\\lambda_o p(ho)+\\lambda_1p(h1)$$\n",
    "$$\\sigma^2=E\\{(y-\\mu)^2\\}=\\lambda_o p(ho)+\\lambda_1p(h1)$$\n",
    "Si consideramos que el promedio de fotones recibido es una medida de la intensidad lumínica promedio, $\\rho$, podemos graficar como varía la probabilidad de error a medida que aumneta $\\rho$\n"
   ]
  },
  {
   "cell_type": "code",
   "execution_count": 6,
   "metadata": {},
   "outputs": [
    {
     "name": "stdout",
     "output_type": "stream",
     "text": [
      "[3.3576e-01 2.3030e-01 1.0172e-01 2.9340e-02 5.4000e-03 1.0000e-04]\n"
     ]
    },
    {
     "data": {
      "text/plain": [
       "<matplotlib.legend.Legend at 0x7f8e2d97ac80>"
      ]
     },
     "execution_count": 6,
     "metadata": {},
     "output_type": "execute_result"
    },
    {
     "data": {
      "image/png": "[encoded data removed]",
      "text/plain": [
       "<Figure size 432x288 with 1 Axes>"
      ]
     },
     "metadata": {
      "needs_background": "light"
     },
     "output_type": "display_data"
    }
   ],
   "source": [
    "# Las diferentes SNR se generan variando lambda1\n",
    "import numpy as np\n",
    "import matplotlib.pyplot as plt\n",
    "\n",
    "lambda1 = np.array([2, 3, 5, 8, 12, 20])\n",
    "Intensidad_dB = 10*np.log10(lambda0 + lambda1)\n",
    "ber = np.array([])\n",
    "lambda0 = 1\n",
    "for lambdaX in lambda1:\n",
    "  # SALIDA DEL CANAL \n",
    "  y = [np.random.poisson(lambdaX) if hypothesis[i]>0 else np.random.poisson(lambda0) for i in range(nb_samples)]\n",
    "  # RECEPTOR \n",
    "  nivel =  (lambdaX-lambda0)/np.log(lambdaX/lambda0)\n",
    "  hypothesis_detected = [1 if y[i]>nivel else 0 for i in range(nb_samples)]\n",
    "  ber = np.append(ber, sum(abs(np.array(hypothesis_detected) - hypothesis))/nb_samples)\n",
    "print(ber)\n",
    "\n",
    "plt.semilogy(Intensidad_dB, ber)\n",
    "plt.xlabel(r'$\\rho$')\n",
    "plt.ylabel('BER')\n",
    "plt.legend(['$\\lambda_o = 1$'])"
   ]
  },
  {
   "attachments": {},
   "cell_type": "markdown",
   "metadata": {},
   "source": [
    "En otro bloque de código realizar curvas de desempeño similares a la anterior para distintas $\\lambda_o$. El rango de valores de $\\lambda_1$ puede elejirse de acuerdo a lo que desea destacar en la gráfica. Grafique las diferentes curvas en una misma figura. "
   ]
  },
  {
   "attachments": {},
   "cell_type": "markdown",
   "metadata": {},
   "source": [
    "Extienda este simulador para una fuente de información no equiprobable y determine el detector ML y MAP. Compare el desempeño de la detección ML y MAP."
   ]
  }
 ],
 "metadata": {
  "kernelspec": {
   "display_name": "Python 3",
   "language": "python",
   "name": "python3"
  },
  "language_info": {
   "codemirror_mode": {
    "name": "ipython",
    "version": 3
   },
   "file_extension": ".py",
   "mimetype": "text/x-python",
   "name": "python",
   "nbconvert_exporter": "python",
   "pygments_lexer": "ipython3",
   "version": "3.10.6"
  },
  "orig_nbformat": 4
 },
 "nbformat": 4,
 "nbformat_minor": 2
}
