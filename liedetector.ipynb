{
 "cells": [
  {
   "attachments": {},
   "cell_type": "markdown",
   "metadata": {},
   "source": [
    "* Considere que hay una poblacion de individuos (A) en donde el 70% dicen la verdad. Si no tenemos otra informacion que la anterior, la probabilidad de que un individuo seleccionado al azar diga la verdad es igual a 0,7. Esta probabilidad se conoce con el nombre de probabilidad a priori.\n",
    "* Considere ahora que cuando un individuo dice una mentira su pulso cardiaco se acelera y la densidad de probabilidad de la variable aleatoria que mide las pulsaciones tiene una distribucion exponencial con parametro beta = 0,01. Por otro lado la distribucion cuando dicen la verdad es tambien exponencial pero con parametro alpha = 0.1\n",
    "\n",
    "1. Obtenga los histogramas de las pulsaciones cardiacas para los individuos de la poblacion (A) que dicen la verdad y que mienten.\n",
    "2. Cual es la probabilidad de que un individuo seleccionado al azar diga la verdad cuando tiene XX pulsaciones cardiacas? Esta probabilidad se conoce como probabilidad a posteriori.\n",
    "3. El conocer las pulsasiones en que porcentaje mejora la probabilidad de detectar que un individuo miente o dice la verdad?"
   ]
  },
  {
   "cell_type": "code",
   "execution_count": 1,
   "metadata": {},
   "outputs": [
    {
     "name": "stdout",
     "output_type": "stream",
     "text": [
      "16.765\n",
      "20000\n"
     ]
    }
   ],
   "source": [
    "import numpy as np\n",
    "import scipy.integrate\n",
    "import matplotlib.pyplot as plt\n",
    "\n",
    "nbins = 20000\n",
    "nbHypothesis = 20000\n",
    "alpha = 0.1\n",
    "beta = 0.01\n",
    "pLie = 0.3\n",
    "pTruth = 1 - pLie\n",
    "\n",
    "np.random.seed(1234)\n",
    "# Hypothesis source: TRUE (1) FALSE (0)\n",
    "\n",
    "def getHypothesis(pTruth, pLie, nb):\n",
    "    p = [pTruth, pLie]\n",
    "    out = np.random.choice(2, nb, p)\n",
    "    return out\n",
    "\n",
    "# Output of brain cell activity instrument\n",
    "\n",
    "def getBrainActivity(hypothesis, alpha, beta):\n",
    "    out = [np.random.exponential(1/alpha) \n",
    "           if hypothesis[i] == 1 else np.random.exponential(1/beta)\n",
    "           for i in range(len(hypothesis))]\n",
    "    return out\n",
    "           \n",
    "# Lier Detector\n",
    "\n",
    "def detect(input, alpha, beta, pTruth, pLie):\n",
    "    theta = 1/(beta - alpha) * np.log((pLie * beta) / (pTruth * alpha))\n",
    "    outHypothesis = [1 if input[i] > theta else 0 for i in range (len(input))]\n",
    "    return [theta, outHypothesis]\n",
    "\n",
    "def simuladorPe(alpha, beta, pTruth, nb):\n",
    "    hypothesis = getHypothesis(pTruth, nb)\n",
    "    observation = getBrainActivity(hypothesis, alpha, beta)\n",
    "    [theta, hypDetected] = detect(observation, alpha, beta, pTruth)\n",
    "    error = [1 if hypothesis[i] != hypDetected[i] else 0 for i in range(nb)]\n",
    "    return (np.sum(error)/nb)\n",
    "\n",
    "hypothesis = getHypothesis(pTruth, pLie, nbHypothesis)\n",
    "\n",
    "observation = getBrainActivity(hypothesis, alpha, beta)\n",
    "\n",
    "theta, hypDetected = detect(observation, alpha, beta, pTruth, pLie)\n",
    "\n",
    "error = [1 if hypothesis[i] != hypDetected[i] else 0 for i in range(nbHypothesis)]\n",
    "\n",
    "nbHypothesis = 1000\n",
    "print(np.sum(error)/nbHypothesis)\n",
    "print(len(hypothesis))"
   ]
  },
  {
   "cell_type": "code",
   "execution_count": 5,
   "metadata": {},
   "outputs": [
    {
     "data": {
      "text/plain": [
       "<function matplotlib.pyplot.grid(visible=None, which='major', axis='both', **kwargs)>"
      ]
     },
     "execution_count": 5,
     "metadata": {},
     "output_type": "execute_result"
    },
    {
     "data": {
      "image/png": "[encoded data removed]",
      "text/plain": [
       "<Figure size 432x288 with 2 Axes>"
      ]
     },
     "metadata": {
      "needs_background": "light"
     },
     "output_type": "display_data"
    }
   ],
   "source": [
    "import matplotlib.pyplot as plt\n",
    "\n",
    "def filterObservation(observations, hypothesis):\n",
    "    truths = []\n",
    "    lies = []\n",
    "\n",
    "    for i in range(len(observations)):\n",
    "        if hypothesis[i]:\n",
    "            truths.append(observations[i])\n",
    "        else:\n",
    "            lies.append(observations[i])\n",
    "\n",
    "    return [lies, truths]\n",
    "\n",
    "[lieObservations, truthObservations] = filterObservation(observation, hypothesis)\n",
    "\n",
    "plt.subplot(2, 1, 1)\n",
    "plt.title(\"OBSERVATIONS\")\n",
    "histTruth = plt.hist(truthObservations, nbins)\n",
    "plt.xlabel(\"pulse\")\n",
    "plt.ylabel(\"n of observations\")\n",
    "plt.xlim((-20, 200))\n",
    "plt.legend([\"TRUTHS OBSERVATIONS\"])\n",
    "plt.grid\n",
    "\n",
    "plt.subplot(2, 1, 2)\n",
    "plt.title(\"OBSERVATIONS\")\n",
    "histTruth = plt.hist(lieObservations, nbins, color='red')\n",
    "plt.xlabel(\"pulse\")\n",
    "plt.ylabel(\"n of observations\")\n",
    "plt.xlim((-20, 200))\n",
    "plt.legend([\"LIES OBSERVATIONS\"])\n",
    "plt.grid\n"
   ]
  }
 ],
 "metadata": {
  "kernelspec": {
   "display_name": "Python 3",
   "language": "python",
   "name": "python3"
  },
  "language_info": {
   "codemirror_mode": {
    "name": "ipython",
    "version": 3
   },
   "file_extension": ".py",
   "mimetype": "text/x-python",
   "name": "python",
   "nbconvert_exporter": "python",
   "pygments_lexer": "ipython3",
   "version": "3.10.6"
  },
  "orig_nbformat": 4,
  "vscode": {
   "interpreter": {
    "hash": "916dbcbb3f70747c44a77c7bcd40155683ae19c65e1c03b4aa3499c5328201f1"
   }
  }
 },
 "nbformat": 4,
 "nbformat_minor": 2
}
